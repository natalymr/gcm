{
 "cells": [
  {
   "cell_type": "code",
   "execution_count": 53,
   "metadata": {},
   "outputs": [],
   "source": [
    "import csv\n",
    "from typing import Dict, Tuple"
   ]
  },
  {
   "cell_type": "code",
   "execution_count": 40,
   "metadata": {},
   "outputs": [],
   "source": [
    "csv_code2seq = \"/Users/natalia.murycheva/PycharmProjects/\" \\\n",
    "               \"gitCommitMessageCollector/naive_bayes/filtered.code2seq.result.csv\"\n",
    "with open(csv_code2seq, newline='') as f:\n",
    "    code2seq_reader = csv.reader(f)\n",
    "    code2seq = {row[0]: row[1] for row in code2seq_reader}"
   ]
  },
  {
   "cell_type": "code",
   "execution_count": 41,
   "metadata": {},
   "outputs": [],
   "source": [
    "csv_nb = csv_file = \"/Users/natalia.murycheva/PycharmProjects/gitCommitMessageCollector/naive_bayes/results.csv\"\n",
    "with open(csv_nb, newline='') as f:\n",
    "    nb_reader = csv.reader(f)\n",
    "    nb = {row[0]: row[1] for row in nb_reader}"
   ]
  },
  {
   "cell_type": "code",
   "execution_count": 42,
   "metadata": {},
   "outputs": [],
   "source": [
    "log = \"/Users/natalia.murycheva/Documents/\"\\\n",
    "      \"gitCommitMessageCollectorStorage/gcm_aurora_com_com_msg_author_date.log\"\n",
    "output = \"/Users/natalia.murycheva/PycharmProjects/\" \\\n",
    "         \"gitCommitMessageCollector/naive_bayes/merged_code2seq_naivebayes_results.csv\"\n",
    "SEPARATOR = \"THIS_STRING_WILL_NEVER_APPEAR_IN_DATASET_AND_IT_WILL_BE_USED_AS_SEPARATOR\"\n",
    "\n",
    "i = 0\n",
    "j = 0\n",
    "log_commits = set()\n",
    "with open(log, 'r') as full_log_file, open(output, 'w') as output_file:\n",
    "    for line in full_log_file:\n",
    "        if line.startswith(\"parent_commit_file_hash\"):\n",
    "            continue\n",
    "        i += 1\n",
    "        line_list = line.split(SEPARATOR)\n",
    "        commit, message = line_list[1], line_list[4]\n",
    "        log_commits.add(commit)\n",
    "        \n",
    "        \n",
    "        try:\n",
    "            code2seq_result = code2seq[commit]\n",
    "        except KeyError:\n",
    "            code2seq_result = \"\"\n",
    "            j += 1\n",
    "        \n",
    "        try:\n",
    "            nb_result = nb[commit]\n",
    "            if nb_result == \"[]\":\n",
    "                nb_result = \"\"\n",
    "        except KeyError:\n",
    "            nb_result = \"\"\n",
    "        output_file.write(f\"{commit}^{message}^{code2seq_result}^{nb_result}^\\n\")"
   ]
  },
  {
   "cell_type": "code",
   "execution_count": 43,
   "metadata": {},
   "outputs": [
    {
     "data": {
      "text/plain": [
       "37077"
      ]
     },
     "execution_count": 43,
     "metadata": {},
     "output_type": "execute_result"
    }
   ],
   "source": [
    "i"
   ]
  },
  {
   "cell_type": "code",
   "execution_count": 44,
   "metadata": {},
   "outputs": [
    {
     "data": {
      "text/plain": [
       "18041"
      ]
     },
     "execution_count": 44,
     "metadata": {},
     "output_type": "execute_result"
    }
   ],
   "source": [
    "j"
   ]
  },
  {
   "cell_type": "code",
   "execution_count": 35,
   "metadata": {},
   "outputs": [],
   "source": [
    "code2seq_commits = set(code2seq.keys())"
   ]
  },
  {
   "cell_type": "code",
   "execution_count": 36,
   "metadata": {},
   "outputs": [],
   "source": [
    "nb_commits = set(nb.keys())"
   ]
  },
  {
   "cell_type": "code",
   "execution_count": 37,
   "metadata": {},
   "outputs": [
    {
     "data": {
      "text/plain": [
       "19036"
      ]
     },
     "execution_count": 37,
     "metadata": {},
     "output_type": "execute_result"
    }
   ],
   "source": [
    "len(log_commits & code2seq_commits)"
   ]
  },
  {
   "cell_type": "code",
   "execution_count": 38,
   "metadata": {},
   "outputs": [
    {
     "data": {
      "text/plain": [
       "19037"
      ]
     },
     "execution_count": 38,
     "metadata": {},
     "output_type": "execute_result"
    }
   ],
   "source": [
    "len(code2seq_commits)"
   ]
  },
  {
   "cell_type": "code",
   "execution_count": 39,
   "metadata": {},
   "outputs": [
    {
     "data": {
      "text/plain": [
       "21984"
      ]
     },
     "execution_count": 39,
     "metadata": {},
     "output_type": "execute_result"
    }
   ],
   "source": [
    "len(log_commits & nb_commits)"
   ]
  },
  {
   "cell_type": "code",
   "execution_count": 144,
   "metadata": {},
   "outputs": [],
   "source": [
    "usov_file = \"/Users/natalia.murycheva/Downloads/aurora_interface2.csv\"\n",
    "usov_commits = set()\n",
    "usov_result: Dict[str, Tuple[str, str, str, str, str, str]] = {}\n",
    "\n",
    "    \n",
    "lens = []\n",
    "with open(usov_file, 'r') as file:\n",
    "    for line in file:\n",
    "        if line.startswith(\"commit\"):\n",
    "            continue\n",
    "        \n",
    "        line_list = line.split(\"\\t\")\n",
    "        lens.append(len(line_list))\n",
    "        commit, author= line_list[0], line_list[1]\n",
    "        usov_commits.add(commit)\n",
    "\n",
    "        gumtree, gumtree_conf = line_list[4], line_list[5]\n",
    "        bayes, bayes_conf, circlet = line_list[6], line_list[7], line_list[8] \n",
    "        usov_result[commit] = (author, gumtree, gumtree_conf, bayes, bayes_conf, circlet)\n",
    "            "
   ]
  },
  {
   "cell_type": "code",
   "execution_count": 145,
   "metadata": {},
   "outputs": [
    {
     "data": {
      "text/plain": [
       "36853"
      ]
     },
     "execution_count": 145,
     "metadata": {},
     "output_type": "execute_result"
    }
   ],
   "source": [
    "len(log_commits & usov_commits)"
   ]
  },
  {
   "cell_type": "code",
   "execution_count": 146,
   "metadata": {},
   "outputs": [
    {
     "data": {
      "text/plain": [
       "37077"
      ]
     },
     "execution_count": 146,
     "metadata": {},
     "output_type": "execute_result"
    }
   ],
   "source": [
    "len(log_commits)"
   ]
  },
  {
   "cell_type": "code",
   "execution_count": 147,
   "metadata": {},
   "outputs": [
    {
     "data": {
      "text/plain": [
       "36854"
      ]
     },
     "execution_count": 147,
     "metadata": {},
     "output_type": "execute_result"
    }
   ],
   "source": [
    "len(usov_commits)"
   ]
  },
  {
   "cell_type": "code",
   "execution_count": 148,
   "metadata": {},
   "outputs": [
    {
     "data": {
      "text/plain": [
       "36854"
      ]
     },
     "execution_count": 148,
     "metadata": {},
     "output_type": "execute_result"
    }
   ],
   "source": [
    "len(usov_result)"
   ]
  },
  {
   "cell_type": "code",
   "execution_count": 156,
   "metadata": {},
   "outputs": [],
   "source": [
    "def get_other_result_in_str(result: Tuple[str, str, str, str, str, str], sep=\"^\") -> (str, str):\n",
    "    return f\"{result[5]}\", f\"{result[1]}{sep}{result[2]}{sep}{result[3]}{sep}{result[4]}\""
   ]
  },
  {
   "cell_type": "code",
   "execution_count": 159,
   "metadata": {},
   "outputs": [],
   "source": [
    "four_system_out = \"/Users/natalia.murycheva/PycharmProjects/\" \\\n",
    "         \"gitCommitMessageCollector/naive_bayes/merged_4_system_results.csv\"\n",
    "\n",
    "i = 0\n",
    "j = 0\n",
    "k = 0\n",
    "p = 0\n",
    "sep = \"^\"\n",
    "with open(log, 'r') as full_log_file, open(four_system_out, 'w') as output_file:\n",
    "    output_file.write(f\"Commit{sep}Circlet Link{sep}Author{sep}\" \\\n",
    "                      f\"Original Message{sep}GumTree Message{sep}GumTree Confidence{sep}\" \\\n",
    "                      f\"Small Change with Naive Bayes{sep}SCNB Confidence{sep}\" \\\n",
    "                      f\"Code2Seq message{sep}Naive Bayes with confidence{sep}\\n\")\n",
    "    for line in full_log_file:\n",
    "        if line.startswith(\"parent_commit_file_hash\"):\n",
    "            continue\n",
    "        i += 1\n",
    "        line_list = line.split(SEPARATOR)\n",
    "        commit, message, author = line_list[1], line_list[4], line_list[2]\n",
    "        \n",
    "        try:\n",
    "            code2seq_result = code2seq[commit]\n",
    "        except KeyError:\n",
    "            code2seq_result = \"\"\n",
    "            j += 1\n",
    "        \n",
    "        try:\n",
    "            nb_result = nb[commit]\n",
    "            if nb_result == \"[]\":\n",
    "                nb_result = \"\"\n",
    "        except KeyError:\n",
    "            nb_result = \"\"\n",
    "            k += 1\n",
    "            \n",
    "        try:\n",
    "            circlet_link, other_result = get_other_result_in_str(usov_result[commit])\n",
    "        except KeyError:\n",
    "            p += 1\n",
    "            circlet_link = \"\"\n",
    "            other_result = f\"{sep}{sep}{sep}\"\n",
    "            \n",
    "            \n",
    "        \n",
    "        output_file.write(f\"{commit}{sep}{circlet_link}{sep}{author}{sep}{message}{sep}\" \\\n",
    "                          f\"{other_result}{sep}{code2seq_result}{sep}{nb_result}{sep}\\n\")\n",
    "\n"
   ]
  },
  {
   "cell_type": "code",
   "execution_count": 151,
   "metadata": {},
   "outputs": [
    {
     "data": {
      "text/plain": [
       "224"
      ]
     },
     "execution_count": 151,
     "metadata": {},
     "output_type": "execute_result"
    }
   ],
   "source": [
    "p"
   ]
  },
  {
   "cell_type": "code",
   "execution_count": 152,
   "metadata": {},
   "outputs": [
    {
     "data": {
      "text/plain": [
       "37077"
      ]
     },
     "execution_count": 152,
     "metadata": {},
     "output_type": "execute_result"
    }
   ],
   "source": [
    "i"
   ]
  },
  {
   "cell_type": "code",
   "execution_count": 153,
   "metadata": {},
   "outputs": [
    {
     "data": {
      "text/plain": [
       "18041"
      ]
     },
     "execution_count": 153,
     "metadata": {},
     "output_type": "execute_result"
    }
   ],
   "source": [
    "j"
   ]
  },
  {
   "cell_type": "code",
   "execution_count": 154,
   "metadata": {},
   "outputs": [
    {
     "data": {
      "text/plain": [
       "15093"
      ]
     },
     "execution_count": 154,
     "metadata": {},
     "output_type": "execute_result"
    }
   ],
   "source": [
    "k"
   ]
  },
  {
   "cell_type": "code",
   "execution_count": null,
   "metadata": {},
   "outputs": [],
   "source": []
  }
 ],
 "metadata": {
  "kernelspec": {
   "display_name": "Python 3",
   "language": "python",
   "name": "python3"
  },
  "language_info": {
   "codemirror_mode": {
    "name": "ipython",
    "version": 3
   },
   "file_extension": ".py",
   "mimetype": "text/x-python",
   "name": "python",
   "nbconvert_exporter": "python",
   "pygments_lexer": "ipython3",
   "version": "3.7.3"
  }
 },
 "nbformat": 4,
 "nbformat_minor": 2
}
