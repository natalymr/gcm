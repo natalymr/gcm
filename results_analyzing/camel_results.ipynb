{
 "cells": [
  {
   "cell_type": "code",
   "execution_count": 1,
   "metadata": {},
   "outputs": [],
   "source": [
    "import sys\n",
    "sys.path.append('/Users/natalia.murycheva/PycharmProjects/gitCommitMessageCollector')"
   ]
  },
  {
   "cell_type": "code",
   "execution_count": 21,
   "metadata": {},
   "outputs": [],
   "source": [
    "from typing import List\n",
    "from results_analyzing.utils import get_data, BleuResults, TranslationResults\n",
    "from results_analyzing.utils import get_bleu_score_for_each_pair, sort_by_bleu, plot_bleu"
   ]
  },
  {
   "cell_type": "markdown",
   "metadata": {},
   "source": [
    "**Идея:**\n",
    "1. давайте возьмем, что у нас нагенерировалось, что должно было нагенерироваться\n",
    "2. отсортируем по bleu-score\n",
    "3. нарисуем график \n",
    "4. будем смотреть на сообщения со слишком большим bleu или со слишком маленьким (ну и со средним тоже можно посмотреть)"
   ]
  },
  {
   "cell_type": "code",
   "execution_count": 4,
   "metadata": {},
   "outputs": [
    {
     "name": "stdout",
     "output_type": "stream",
     "text": [
      "BLEU = 6.01, 29.5/15.3/5.6/4.1 (BP=0.598, ratio=0.660, hyp_len=7798, ref_len=11811)\r\n",
      "It is not advisable to publish scores from multi-bleu.perl.  The scores depend on your tokenizer, which is unlikely to be reproducible from your paper or consistent across research groups.  Instead you should detokenize then use mteval-v14.pl, which has a standard tokenization.  Scores from multi-bleu.perl can still be used for internal purposes when you have a consistent tokenizer.\r\n"
     ]
    }
   ],
   "source": [
    "!perl bleu/multi-bleu.perl ../../data/results/camel/ref.txt < ../../data/results/camel/pred.txt"
   ]
  },
  {
   "cell_type": "code",
   "execution_count": 10,
   "metadata": {},
   "outputs": [],
   "source": [
    "references_file: Path = Path('../../data/results/camel/ref.txt')\n",
    "predictions_file: Path = Path('../../data/results/camel/pred.txt')\n",
    "perl_script_path: Path = Path('bleu/multi-bleu.perl')"
   ]
  },
  {
   "cell_type": "code",
   "execution_count": 11,
   "metadata": {},
   "outputs": [],
   "source": [
    "refs, preds = get_data(references_file, predictions_file)"
   ]
  },
  {
   "cell_type": "code",
   "execution_count": 12,
   "metadata": {},
   "outputs": [
    {
     "name": "stdout",
     "output_type": "stream",
     "text": [
      "We have 1035 pairs of the translation.\n",
      "We got an error on this perl output: ..\n"
     ]
    }
   ],
   "source": [
    "translation_results: List[TranslationResults] = get_bleu_score_for_each_pair(refs, preds, perl_script_path)"
   ]
  },
  {
   "cell_type": "code",
   "execution_count": 22,
   "metadata": {},
   "outputs": [],
   "source": [
    "sorted_tr_results: List[TranslationResults] = sort_by_bleu(translation_results)"
   ]
  },
  {
   "cell_type": "code",
   "execution_count": 17,
   "metadata": {},
   "outputs": [
    {
     "data": {
      "image/png": "[encoded data removed]",
      "text/plain": [
       "<Figure size 1440x720 with 1 Axes>"
      ]
     },
     "metadata": {
      "needs_background": "light"
     },
     "output_type": "display_data"
    }
   ],
   "source": [
    "plot_bleu(sorted_tr_results, 'CAMEL')"
   ]
  },
  {
   "cell_type": "code",
   "execution_count": 18,
   "metadata": {},
   "outputs": [
    {
     "data": {
      "text/plain": [
       "64"
      ]
     },
     "execution_count": 18,
     "metadata": {},
     "output_type": "execute_result"
    }
   ],
   "source": [
    "not_almost_zero = list(filter(TranslationResults.is_bleu_not_almost_zero, sorted_tr_results))\n",
    "len(not_almost_zero)"
   ]
  },
  {
   "cell_type": "code",
   "execution_count": 19,
   "metadata": {},
   "outputs": [
    {
     "name": "stdout",
     "output_type": "stream",
     "text": [
      "BLEU: 7.91\n",
      "Reference: camel <num> camel aws s <num> add a parameter to specify chunked encoding disabled option change name to the option regen docs.\n",
      "Prediction: camel <num> camel aws since we are using builders we\n",
      "\n",
      "BLEU: 13.04\n",
      "Reference: camel <num> camel aws s <num> add parameters to specify s <num> client options accelerate mode option.\n",
      "Prediction: camel <num> camel aws create single spring boot itests for\n",
      "\n",
      "BLEU: 13.04\n",
      "Reference: camel <num> camel aws kinesis firehose add the ability to specify credentials and region at component level.\n",
      "Prediction: camel <num> camel aws use builders instead of different constructors\n",
      "\n",
      "BLEU: 13.07\n",
      "Reference: camel <num> camel aws lets adopt the same approach as camel <num> for all the components camel aws lambda.\n",
      "Prediction: camel aws lets adopt the value of fixed\n",
      "\n",
      "BLEU: 13.53\n",
      "Reference: camel <num> shutdown only aws clients owned by the context aws mq.\n",
      "Prediction: shutdown only aws clients\n",
      "\n",
      "BLEU: 13.79\n",
      "Reference: camel <num> camel aws kinesis firehose use a configuration for the options like the other aws components.\n",
      "Prediction: camel <num> camel aws use builders instead of different constructors\n",
      "\n",
      "BLEU: 14.42\n",
      "Reference: camel <num> camel aws mq add the ability to specify credentials and region at component level.\n",
      "Prediction: camel <num> camel aws use builders instead of different constructors\n",
      "\n",
      "BLEU: 14.69\n",
      "Reference: camel <num> camel aws lets adopt the same approach as camel <num> for all the components camel aws cw.\n",
      "Prediction: camel aws lets adopt the value of different only\n",
      "\n",
      "BLEU: 17.61\n",
      "Reference: camel <num> camel ftp tries reconnects twice as much as maximum reconnect attempts <num>.\n",
      "Prediction: camel <num> camel ftp spi option to turn different propgate\n",
      "\n",
      "BLEU: 19.14\n",
      "Reference: camel <num> camel jms suspending resuming won t work in case of timeout.\n",
      "Prediction: camel <num> camel jms add spring boot for jms\n",
      "\n",
      "BLEU: 19.46\n",
      "Reference: camel <num> service call improve configuration of service call components in java dsl.\n",
      "Prediction: camel <num> service call add an option to configure a\n",
      "\n",
      "BLEU: 20.42\n",
      "Reference: camel <num> camel aws add component verifiers like s <num> for all the aws components lambda component.\n",
      "Prediction: camel <num> camel aws add an option to specify the\n",
      "\n",
      "BLEU: 21.51\n",
      "Reference: camel <num> camel aws sns make the autocreation of the topic configurable.\n",
      "Prediction: camel <num> camel aws since we are using builders we\n",
      "\n",
      "BLEU: 21.51\n",
      "Reference: camel <num> camel aws swf region is not set during client creation.\n",
      "Prediction: camel <num> camel aws use builders instead of different constructors\n",
      "\n",
      "BLEU: 22.44\n",
      "Reference: camel <num> camel aws use regional client instead of define region for single operation aws ec <num>.\n",
      "Prediction: camel <num> camel aws use builders instead of different constructors\n",
      "\n",
      "BLEU: 23.67\n",
      "Reference: camel <num> camel <num> use bind to registry wherever possible camel websocket.\n",
      "Prediction: camel irc use bind to registry annotation where possible\n",
      "\n",
      "BLEU: 23.9\n",
      "Reference: camel <num> optimise bean processor make light weight not as service.\n",
      "Prediction: camel <num> optimise bean expression bean to bean start\n",
      "\n",
      "BLEU: 24.12\n",
      "Reference: camel <num> camel <num> use bind to registry wherever possible camel xmpp.\n",
      "Prediction: camel <num> camel <num> upgrade to use registry\n",
      "\n",
      "BLEU: 24.8\n",
      "Reference: camel <num> camel aws use regional client instead of define region for single operation aws sdb.\n",
      "Prediction: camel <num> camel aws use builders instead of different constructors\n",
      "\n",
      "BLEU: 25.13\n",
      "Reference: camel <num> camel main added option to log summary or not.\n",
      "Prediction: camel <num> camel main allow to configure global and common\n",
      "\n",
      "BLEU: 25.27\n",
      "Reference: camel <num> camel jmx allow consumer to alos filter observed attribute.\n",
      "Prediction: camel <num> camel jmx add missing data to specify\n",
      "\n",
      "BLEU: 26.27\n",
      "Reference: camel <num> camel main output summary of auto configuration.\n",
      "Prediction: camel <num> camel main maven plugin to generte spring boot\n",
      "\n",
      "BLEU: 26.27\n",
      "Reference: camel <num> camel hazelcast support reliable topic.\n",
      "Prediction: camel <num> camel hazelcast allow to configure a list of\n",
      "\n",
      "BLEU: 26.3\n",
      "Reference: camel <num> add an advanced properties to the camel thrift component.\n",
      "Prediction: camel <num> add an option to configure component\n",
      "\n",
      "BLEU: 26.71\n",
      "Reference: camel <num> camel connector allow to configure sb config prefix.\n",
      "Prediction: camel <num> camel connector generate spring boot auto configuration\n",
      "\n",
      "BLEU: 27.78\n",
      "Reference: camel <num> camel aws create an iam component first commit.\n",
      "Prediction: camel <num> camel aws iam add the ability to specify\n",
      "\n",
      "BLEU: 27.78\n",
      "Reference: camel <num> camel aws ddbstream add a component verifier.\n",
      "Prediction: camel <num> camel aws sqs add the ability to specify\n",
      "\n",
      "BLEU: 28.62\n",
      "Reference: camel aws sqs add a consumer integration test for delete if filtered option.\n",
      "Prediction: camel <num> camel aws sqs add a list polished\n",
      "\n",
      "BLEU: 29.85\n",
      "Reference: camel <num> camel ftp more unittest on osgi parsers.\n",
      "Prediction: camel <num> camel ftp add option for resume download\n",
      "\n",
      "BLEU: 29.95\n",
      "Reference: camel <num> camel <num> use bind to registry wherever possible camel sjms <num>.\n",
      "Prediction: camel <num> camel <num> use kafka camel instead of\n",
      "\n",
      "BLEU: 30.86\n",
      "Reference: camel <num> camel aws add component verifiers like s <num> for all the aws components sns component.\n",
      "Prediction: camel <num> camel aws add component verifiers component verifier\n",
      "\n",
      "BLEU: 32.47\n",
      "Reference: camel hipchat use bind to registry annotation wherever possible.\n",
      "Prediction: camel <num> camel <num> use bind to registry wherever possible\n",
      "\n",
      "BLEU: 33.03\n",
      "Reference: camel crypto use bind to registry annotation wherever possible.\n",
      "Prediction: camel <num> add bind to registry annotation where possible\n",
      "\n",
      "BLEU: 35.54\n",
      "Reference: camel <num> rest dsl producer should use upper case http verb.\n",
      "Prediction: camel <num> rest dsl producer issue with npe or other\n",
      "\n",
      "BLEU: 38.3\n",
      "Reference: camel <num> camel aws lambda add support for event source mapping delete operation.\n",
      "Prediction: camel <num> camel aws lambda add the ability to specify\n",
      "\n",
      "BLEU: 40.66\n",
      "Reference: camel <num> camel aws lets adopt the same approach as camel <num> for all the components camel aws sns.\n",
      "Prediction: camel <num> camel aws lets adopt the same approach as\n",
      "\n",
      "BLEU: 40.97\n",
      "Reference: camel <num> camel ftp add option to turn on logging of transfer activity.\n",
      "Prediction: camel <num> camel ftp add option and option to\n",
      "\n",
      "BLEU: 41.11\n",
      "Reference: camel <num> camel elasticsearch rest remove info operation from producer.\n",
      "Prediction: camel <num> camel elasticsearch rest producer should not support for\n",
      "\n",
      "BLEU: 42.73\n",
      "Reference: camel metrics use bind to registry annotation wherever possible.\n",
      "Prediction: camel aws mq use bind to registry annotation where possible\n",
      "\n",
      "BLEU: 43.74\n",
      "Reference: camel <num> camel <num> use bind to registry wherever possible camel stream.\n",
      "Prediction: camel <num> use bind to registry annotation where possible\n",
      "\n",
      "BLEU: 44.93\n",
      "Reference: camel <num> camel aws add component verifiers like s <num> for all the aws components ec <num> component.\n",
      "Prediction: camel <num> camel aws add component verifiers like s <num>\n",
      "\n",
      "BLEU: 48.75\n",
      "Reference: camel <num> upgrade mockito core to version <num> <num> for camel spring redis.\n",
      "Prediction: camel <num> upgrade mockito core to <num> <num> for polish\n",
      "\n",
      "BLEU: 49.66\n",
      "Reference: camel <num> rename components to default names camel netty <num> to camel netty aligned camel netty tests.\n",
      "Prediction: camel <num> rename components to default names camel netty <num>\n",
      "\n",
      "BLEU: 49.66\n",
      "Reference: camel <num> rename components to default names camel netty <num> to camel netty fixed camel ganglia test.\n",
      "Prediction: camel <num> rename components to default names camel netty <num>\n",
      "\n",
      "BLEU: 49.66\n",
      "Reference: camel <num> rename components to default names camel quartz <num> to camel quartz fixed references in javadoc.\n",
      "Prediction: camel <num> rename components to default names camel quartz <num>\n",
      "\n",
      "BLEU: 49.66\n",
      "Reference: camel <num> camel aws add component verifiers like s <num> for all the aws components ses component.\n",
      "Prediction: camel <num> camel aws add component verifiers like s <num>\n",
      "\n",
      "BLEU: 53.73\n",
      "Reference: camel google pubsub use bind to registry wherever possible.\n",
      "Prediction: camel <num> camel <num> use bind to registry wherever possible\n",
      "\n",
      "BLEU: 54.88\n",
      "Reference: camel <num> add unit test for zero timeout.\n",
      "Prediction: camel <num> add unit test\n",
      "\n",
      "BLEU: 57.89\n",
      "Reference: camel aws msk use bind to registry annotation where possible in tests.\n",
      "Prediction: camel aws mq use bind to registry annotation where possible\n",
      "\n",
      "BLEU: 57.97\n",
      "Reference: camel <num> rename components to default names camel mina <num> to camel mina.\n",
      "Prediction: camel <num> rename components to default names camel quartz <num>\n",
      "\n",
      "BLEU: 60.65\n",
      "Reference: camel <num> rename components to default names camel netty <num> to camel netty updated references.\n",
      "Prediction: camel <num> rename components to default names camel netty <num>\n",
      "\n",
      "BLEU: 60.65\n",
      "Reference: camel <num> fixed cs and tests.\n",
      "Prediction: camel <num> fixed cs\n",
      "\n",
      "BLEU: 67.03\n",
      "Reference: camel <num> camel <num> use bind to registry wherever possible camel netty <num> http.\n",
      "Prediction: camel <num> camel <num> use bind to registry wherever possible\n",
      "\n",
      "BLEU: 70.71\n",
      "Reference: camel aws sqs use regions value of in the verifier.\n",
      "Prediction: camel aws ddb use regions value of in the verifier\n",
      "\n",
      "BLEU: 70.71\n",
      "Reference: camel aws mq use regions value of in the verifier.\n",
      "Prediction: camel aws ddb use regions value of in the verifier\n",
      "\n",
      "BLEU: 74.08\n",
      "Reference: camel <num> rename components to default names camel netty <num> to camel netty.\n",
      "Prediction: camel <num> rename components to default names camel netty <num>\n",
      "\n",
      "BLEU: 74.08\n",
      "Reference: camel aws create single karaf feature tests for single components aws mq test.\n",
      "Prediction: camel aws create single karaf feature tests for single components\n",
      "\n",
      "BLEU: 74.08\n",
      "Reference: camel <num> camel aws use builders instead of different constructors aws simple db.\n",
      "Prediction: camel <num> camel aws use builders instead of different constructors\n",
      "\n",
      "BLEU: 74.08\n",
      "Reference: camel <num> camel aws use builders instead of different constructors aws dynamo db.\n",
      "Prediction: camel <num> camel aws use builders instead of different constructors\n",
      "\n",
      "BLEU: 74.08\n",
      "Reference: camel <num> camel aws use builders instead of different constructors aws cloud watch.\n",
      "Prediction: camel <num> camel aws use builders instead of different constructors\n",
      "\n",
      "BLEU: 75.06\n",
      "Reference: camel kafka use bind to registry annotation wherever possible.\n",
      "Prediction: camel kafka use bind to registry annotation where possible\n",
      "\n",
      "BLEU: 75.06\n",
      "Reference: camel cometd use bind to registry annotation where possible.\n",
      "Prediction: camel irc use bind to registry annotation where possible\n",
      "\n",
      "BLEU: 81.87\n",
      "Reference: camel <num> camel <num> use bind to registry wherever possible camel zipkin.\n",
      "Prediction: camel <num> camel <num> use bind to registry wherever possible\n",
      "\n",
      "BLEU: 81.87\n",
      "Reference: camel <num> camel <num> use bind to registry wherever possible camel syslog.\n",
      "Prediction: camel <num> camel <num> use bind to registry wherever possible\n",
      "\n"
     ]
    }
   ],
   "source": [
    "a = list(map(lambda it: print(f'BLEU: {it.result.bleu}\\n'\n",
    "                              f'Reference: {it.ref.strip()}.\\n'\n",
    "                              f'Prediction: {it.pred.strip()}\\n'), \n",
    "             not_almost_zero))"
   ]
  },
  {
   "cell_type": "code",
   "execution_count": 20,
   "metadata": {},
   "outputs": [
    {
     "data": {
      "text/plain": [
       "970"
      ]
     },
     "execution_count": 20,
     "metadata": {},
     "output_type": "execute_result"
    }
   ],
   "source": [
    "is_zero = list(filter(TranslationResults.is_bleu_is_zero, sorted_tr_results))\n",
    "len(is_zero)"
   ]
  },
  {
   "cell_type": "code",
   "execution_count": null,
   "metadata": {},
   "outputs": [],
   "source": []
  }
 ],
 "metadata": {
  "kernelspec": {
   "display_name": "Python 3",
   "language": "python",
   "name": "python3"
  },
  "language_info": {
   "codemirror_mode": {
    "name": "ipython",
    "version": 3
   },
   "file_extension": ".py",
   "mimetype": "text/x-python",
   "name": "python",
   "nbconvert_exporter": "python",
   "pygments_lexer": "ipython3",
   "version": "3.7.3"
  }
 },
 "nbformat": 4,
 "nbformat_minor": 2
}
