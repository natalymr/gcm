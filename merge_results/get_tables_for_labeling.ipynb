{
 "cells": [
  {
   "cell_type": "code",
   "execution_count": 14,
   "metadata": {},
   "outputs": [],
   "source": [
    "from dataclasses import dataclass\n",
    "from random import randint\n",
    "from typing import Dict, List, Set"
   ]
  },
  {
   "cell_type": "code",
   "execution_count": 30,
   "metadata": {},
   "outputs": [],
   "source": [
    "@dataclass\n",
    "class CommitInfo:\n",
    "    commit: str\n",
    "    circlet_link: str\n",
    "    original_message: str\n",
    "    gum_tree: str\n",
    "    gum_tree_confidence: str\n",
    "    schnb: str\n",
    "    schnb_confidence: str\n",
    "    code2seq: str\n",
    "    nb: str\n",
    "        \n",
    "    @staticmethod\n",
    "    def parse_from_list(list_: List[str]) -> 'CommitInfo':\n",
    "        index_commit = 0 \n",
    "        index_circlet_link = 1\n",
    "        index_orig_message = 3 \n",
    "        index_gt = 4\n",
    "        index_gt_confidence = 5\n",
    "        index_schnb = 6\n",
    "        index_schnb_confidence = 7\n",
    "        index_c2s = 8\n",
    "        index_nb = 9\n",
    "        \n",
    "        return CommitInfo(commit=list_[index_commit],\n",
    "                          circlet_link=list_[index_circlet_link],\n",
    "                          original_message=list_[index_orig_message],\n",
    "                          gum_tree=list_[index_gt],\n",
    "                          gum_tree_confidence=list_[index_gt_confidence],\n",
    "                          schnb=list_[index_schnb],\n",
    "                          schnb_confidence=list_[index_schnb_confidence],\n",
    "                          code2seq=list_[index_c2s],\n",
    "                          nb=list_[index_nb])\n",
    "    \n",
    "    def almost_pretty_print_for_labeling(self, sep='^'):\n",
    "        return f'=HYPERLINK(\"{self.circlet_link}\";\"circlet\"){sep}{sep}' \\\n",
    "               f'{self.original_message}{sep}{self.gum_tree}{sep}{self.gum_tree_confidence}{sep}' \\\n",
    "               f'{self.schnb}{sep}{self.schnb_confidence}{sep}' \\\n",
    "               f'{self.code2seq}{sep}{self.nb}{sep}'\n",
    "        "
   ]
  },
  {
   "cell_type": "code",
   "execution_count": 31,
   "metadata": {},
   "outputs": [],
   "source": [
    "# get all merged data\n",
    "\n",
    "commits: List[CommitInfo] = []\n",
    "input_file = \"merged_4_system_results.csv\"\n",
    "\n",
    "with open(input_file, 'r') as input_file:\n",
    "    for line in input_file:\n",
    "        if line.startswith(\"Commit\"):\n",
    "            continue\n",
    "            \n",
    "        commits.append(CommitInfo.parse_from_list(line.split(\"^\")))"
   ]
  },
  {
   "cell_type": "code",
   "execution_count": 32,
   "metadata": {},
   "outputs": [
    {
     "data": {
      "text/plain": [
       "37077"
      ]
     },
     "execution_count": 32,
     "metadata": {},
     "output_type": "execute_result"
    }
   ],
   "source": [
    "len(commits)"
   ]
  },
  {
   "cell_type": "code",
   "execution_count": 33,
   "metadata": {},
   "outputs": [],
   "source": [
    "def is_commit_ok_for_labeling(commit: CommitInfo) -> bool:\n",
    "    total_score = 0\n",
    "    \n",
    "    if commit.original_message == \"no message\":\n",
    "        return False\n",
    "    \n",
    "    if commit.gum_tree != \"\":\n",
    "        total_score += 1\n",
    "    if commit.schnb != \"\":\n",
    "        total_score += 1\n",
    "    if commit.code2seq != \"\":\n",
    "        total_score += 1\n",
    "    if commit.nb != \"\":\n",
    "        total_score += 1\n",
    "    \n",
    "    return total_score >= 3"
   ]
  },
  {
   "cell_type": "code",
   "execution_count": 35,
   "metadata": {},
   "outputs": [],
   "source": [
    "users = [\"Miller\", \"Usov\", \"Murycheva\"]\n",
    "max_count_commits_per_user: int = 30\n",
    "max_commits_number: int = len(commits)\n",
    "selected_commits: Set[int] = set()\n",
    "sep = '^'\n",
    "\n",
    "for user in users:\n",
    "    current_user_selected_commits = 0\n",
    "    file_name_output = f\"for_{user}_labeling.csv\"  \n",
    "    with open(file_name_output, 'w') as output_file:\n",
    "        output_file.write(f'Circlet Link{sep}Your Answer{sep}Original Message{sep}' \\\n",
    "                          f'GumTree{sep}GumTree Confidence{sep}Small Changes NB{sep}SCHNB Confidence{sep}' \\\n",
    "                          f'code2seq{sep}Naive Bayes{sep}\\n')\n",
    "        \n",
    "        while current_user_selected_commits <= max_count_commits_per_user:\n",
    "            random_index_for_cur_commit = randint(0, max_commits_number - 1)\n",
    "            cur_commit = commits[random_index_for_cur_commit]\n",
    "            \n",
    "            if is_commit_ok_for_labeling(cur_commit) and not random_index_for_cur_commit in selected_commits:\n",
    "                selected_commits.add(random_index_for_cur_commit)\n",
    "                current_user_selected_commits += 1\n",
    "                output_file.write(f\"{cur_commit.almost_pretty_print_for_labeling()}\\n\")\n",
    "                \n",
    "                \n",
    "        \n"
   ]
  },
  {
   "cell_type": "code",
   "execution_count": null,
   "metadata": {},
   "outputs": [],
   "source": []
  }
 ],
 "metadata": {
  "kernelspec": {
   "display_name": "Python 3",
   "language": "python",
   "name": "python3"
  },
  "language_info": {
   "codemirror_mode": {
    "name": "ipython",
    "version": 3
   },
   "file_extension": ".py",
   "mimetype": "text/x-python",
   "name": "python",
   "nbconvert_exporter": "python",
   "pygments_lexer": "ipython3",
   "version": "3.7.3"
  }
 },
 "nbformat": 4,
 "nbformat_minor": 2
}
